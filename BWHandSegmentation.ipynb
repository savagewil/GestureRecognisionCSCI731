{
 "cells": [
  {
   "cell_type": "code",
   "execution_count": 5,
   "metadata": {},
   "outputs": [],
   "source": [
    "import cv2\n",
    "import numpy as np\n",
    "import matplotlib.pyplot as plt"
   ]
  },
  {
   "cell_type": "markdown",
   "metadata": {},
   "source": [
    "### Setting up parameters"
   ]
  },
  {
   "cell_type": "code",
   "execution_count": 2,
   "metadata": {},
   "outputs": [],
   "source": [
    "CAPTURE_FRAMES = 100\n",
    "ERODE_SIZE = 2"
   ]
  },
  {
   "cell_type": "markdown",
   "metadata": {},
   "source": [
    "### Capturing a frame"
   ]
  },
  {
   "cell_type": "code",
   "execution_count": 6,
   "metadata": {},
   "outputs": [
    {
     "data": {
      "text/plain": [
       "<matplotlib.image.AxesImage at 0x1ebe92dbf28>"
      ]
     },
     "execution_count": 6,
     "metadata": {},
     "output_type": "execute_result"
    },
    {
     "data": {
      "image/png": "[encoded data removed]",
      "text/plain": [
       "<Figure size 432x288 with 1 Axes>"
      ]
     },
     "metadata": {
      "needs_background": "light"
     },
     "output_type": "display_data"
    }
   ],
   "source": [
    "cam = cv2.VideoCapture(0)\n",
    "ret, frame = cam.read()\n",
    "cam.release()\n",
    "plt.imshow(frame)"
   ]
  },
  {
   "cell_type": "markdown",
   "metadata": {},
   "source": [
    "### Making sure we have a frame"
   ]
  },
  {
   "cell_type": "code",
   "execution_count": 8,
   "metadata": {},
   "outputs": [],
   "source": [
    "if not ret:\n",
    "    print(\"failed to grab frame\")"
   ]
  },
  {
   "cell_type": "markdown",
   "metadata": {},
   "source": [
    "### Converting image to Black and White"
   ]
  },
  {
   "cell_type": "code",
   "execution_count": 9,
   "metadata": {},
   "outputs": [],
   "source": [
    "grayImage = cv2.cvtColor(frame, cv2.COLOR_BGR2GRAY)\n",
    "(thresh, hand_mask) = cv2.threshold(grayImage, 80, 255, cv2.THRESH_BINARY)"
   ]
  },
  {
   "cell_type": "markdown",
   "metadata": {},
   "source": [
    "### Finding contours in image"
   ]
  },
  {
   "cell_type": "code",
   "execution_count": 11,
   "metadata": {},
   "outputs": [],
   "source": [
    "contours, _ = cv2.findContours(hand_mask, cv2.RETR_LIST, cv2.CHAIN_APPROX_SIMPLE)\n",
    "contour_masked = hand_mask.copy()"
   ]
  },
  {
   "cell_type": "markdown",
   "metadata": {},
   "source": [
    "### Extracting hand sized contours"
   ]
  },
  {
   "cell_type": "code",
   "execution_count": 15,
   "metadata": {},
   "outputs": [],
   "source": [
    "hands = []\n",
    "for contour in contours:\n",
    "    if 2000 <= cv2.contourArea(contour):\n",
    "        cv2.drawContours(frame, [contour], 0, (127, 127, 127), 3)\n",
    "        hull_shape = cv2.convexHull(contour, returnPoints=True)\n",
    "        \n",
    "        hull = cv2.convexHull(contour, returnPoints=False)\n",
    "\n",
    "        cv2.drawContours(frame, [hull_shape], 0, (100, 100, 100), 3)\n",
    "        \n",
    "        for point in contour:\n",
    "            if not(point[0] in hull):\n",
    "                cv2.circle(frame, point, 5, [0, 0, 200], -1)\n",
    "        print(\"Reached\")\n",
    "        defects = cv2.convexityDefects(contour, hull)\n",
    "        for point in defects:\n",
    "            # print(point[0, 3])\n",
    "            if point[0, 3] > 500:\n",
    "                defect = tuple(contour[point[0, 2]][0])\n",
    "                start = tuple(contour[point[0, 0]][0])\n",
    "                end = tuple(contour[point[0, 1]][0])\n",
    "                dist = np.sqrt((start[0] - end[0])**2 + (start[1] - end[1])**2)\n",
    "                print(f\"norm{dist}\")\n",
    "                if dist > 3:\n",
    "                    # print(defect)\n",
    "                    cv2.line(frame, start, end, [255, 0, 0], 5)\n",
    "                    cv2.circle(frame, defect, 5, [0, 0, 255], -1)\n",
    "        hands.append(cv2.boundingRect(contour))\n",
    "\n"
   ]
  },
  {
   "cell_type": "markdown",
   "metadata": {},
   "source": [
    "### Displaying Extracted images"
   ]
  },
  {
   "cell_type": "code",
   "execution_count": 17,
   "metadata": {},
   "outputs": [
    {
     "data": {
      "image/png": "[encoded data removed]",
      "text/plain": [
       "<Figure size 432x288 with 1 Axes>"
      ]
     },
     "metadata": {
      "needs_background": "light"
     },
     "output_type": "display_data"
    },
    {
     "data": {
      "image/png": "[encoded data removed]",
      "text/plain": [
       "<Figure size 432x288 with 1 Axes>"
      ]
     },
     "metadata": {
      "needs_background": "light"
     },
     "output_type": "display_data"
    }
   ],
   "source": [
    "plt.figure()\n",
    "plt.imshow(frame)\n",
    "\n",
    "plt.figure()\n",
    "plt.imshow(contour_masked)\n",
    "for hand_index in range(len(hands)):\n",
    "    x, y, w, h = hands[hand_index]\n",
    "    plt.figure()\n",
    "    plt.imshow(\"Mask%d\"%hand_index, frame[y:y+h, x:x+w])"
   ]
  },
  {
   "cell_type": "code",
   "execution_count": null,
   "metadata": {},
   "outputs": [],
   "source": []
  }
 ],
 "metadata": {
  "kernelspec": {
   "display_name": "Python 3.6",
   "language": "python",
   "name": "python3.6"
  },
  "language_info": {
   "codemirror_mode": {
    "name": "ipython",
    "version": 3
   },
   "file_extension": ".py",
   "mimetype": "text/x-python",
   "name": "python",
   "nbconvert_exporter": "python",
   "pygments_lexer": "ipython3",
   "version": "3.6.8"
  }
 },
 "nbformat": 4,
 "nbformat_minor": 4
}
