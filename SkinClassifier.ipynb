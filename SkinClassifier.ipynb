{
 "cells": [
  {
   "cell_type": "code",
   "execution_count": 1,
   "metadata": {},
   "outputs": [],
   "source": [
    "import pickle\n",
    "import cv2\n",
    "import numpy as np\n",
    "import pandas as pd\n",
    "import seaborn as sns\n",
    "import matplotlib as mpl\n",
    "from matplotlib import pyplot as plt\n"
   ]
  },
  {
   "cell_type": "code",
   "execution_count": 2,
   "metadata": {},
   "outputs": [],
   "source": [
    "\n",
    "mpl.rcParams['figure.dpi'] = 1000"
   ]
  },
  {
   "cell_type": "code",
   "execution_count": 3,
   "metadata": {},
   "outputs": [],
   "source": [
    "THRESHOLD_COUNT = 100\n",
    "COLOR_SPACE = cv2.COLOR_BGR2YUV\n",
    "THRESHOLD = [0, 0, 0]\n",
    "MODEL = [[0, 0], [0, 0], [0, 0]]"
   ]
  },
  {
   "cell_type": "code",
   "execution_count": 4,
   "metadata": {},
   "outputs": [],
   "source": [
    "skin_data = pd.read_csv(\"Skin_NonSkin.txt\", names=[\"r\", \"g\", \"b\", \"skin\"], sep=\"\\t\")"
   ]
  },
  {
   "cell_type": "code",
   "execution_count": 5,
   "metadata": {
    "pycharm": {
     "name": "#%%\n"
    }
   },
   "outputs": [
    {
     "data": {
      "text/plain": "    r   g    b  skin\n0  74  85  123     1\n1  73  84  122     1\n2  72  83  121     1\n3  70  81  119     1\n4  70  81  119     1",
      "text/html": "<div>\n<style scoped>\n    .dataframe tbody tr th:only-of-type {\n        vertical-align: middle;\n    }\n\n    .dataframe tbody tr th {\n        vertical-align: top;\n    }\n\n    .dataframe thead th {\n        text-align: right;\n    }\n</style>\n<table border=\"1\" class=\"dataframe\">\n  <thead>\n    <tr style=\"text-align: right;\">\n      <th></th>\n      <th>r</th>\n      <th>g</th>\n      <th>b</th>\n      <th>skin</th>\n    </tr>\n  </thead>\n  <tbody>\n    <tr>\n      <th>0</th>\n      <td>74</td>\n      <td>85</td>\n      <td>123</td>\n      <td>1</td>\n    </tr>\n    <tr>\n      <th>1</th>\n      <td>73</td>\n      <td>84</td>\n      <td>122</td>\n      <td>1</td>\n    </tr>\n    <tr>\n      <th>2</th>\n      <td>72</td>\n      <td>83</td>\n      <td>121</td>\n      <td>1</td>\n    </tr>\n    <tr>\n      <th>3</th>\n      <td>70</td>\n      <td>81</td>\n      <td>119</td>\n      <td>1</td>\n    </tr>\n    <tr>\n      <th>4</th>\n      <td>70</td>\n      <td>81</td>\n      <td>119</td>\n      <td>1</td>\n    </tr>\n  </tbody>\n</table>\n</div>"
     },
     "execution_count": 5,
     "metadata": {},
     "output_type": "execute_result"
    }
   ],
   "source": [
    "skin_data.head()"
   ]
  },
  {
   "cell_type": "code",
   "execution_count": 6,
   "metadata": {
    "pycharm": {
     "name": "#%%\n"
    }
   },
   "outputs": [
    {
     "data": {
      "text/plain": "array([[[ 74,  85, 123],\n        [ 73,  84, 122],\n        [ 72,  83, 121],\n        [ 70,  81, 119],\n        [ 70,  81, 119]]], dtype=int64)"
     },
     "execution_count": 6,
     "metadata": {},
     "output_type": "execute_result"
    }
   ],
   "source": [
    "rgb_skin = skin_data.iloc[:,:-1].values\n",
    "\n",
    "rgb_skin = rgb_skin.reshape((1, rgb_skin.shape[0], 3))\n",
    "rgb_skin[:, :5]"
   ]
  },
  {
   "cell_type": "code",
   "execution_count": 7,
   "metadata": {
    "pycharm": {
     "name": "#%%\n"
    }
   },
   "outputs": [
    {
     "data": {
      "text/plain": "array([[ 95, 118, 153],\n       [ 94, 118, 153],\n       [ 93, 118, 153],\n       [ 91, 118, 153],\n       [ 91, 118, 153]], dtype=uint8)"
     },
     "execution_count": 7,
     "metadata": {},
     "output_type": "execute_result"
    }
   ],
   "source": [
    "hsv_skin = cv2.cvtColor(np.uint8(rgb_skin), COLOR_SPACE)\n",
    "hsv_skin= hsv_skin.reshape((hsv_skin.shape[1], 3))\n",
    "hsv_skin[:5]"
   ]
  },
  {
   "cell_type": "code",
   "execution_count": 8,
   "metadata": {
    "pycharm": {
     "name": "#%%\n"
    }
   },
   "outputs": [
    {
     "data": {
      "text/plain": "array([[ 82, 141, 153],\n       [ 82, 143, 153],\n       [ 82, 145, 153],\n       [ 82, 150, 153],\n       [ 82, 150, 153]], dtype=uint8)"
     },
     "execution_count": 8,
     "metadata": {},
     "output_type": "execute_result"
    }
   ],
   "source": [
    "rgb2_skin = hsv_skin.reshape((1, hsv_skin.shape[0], 3))\n",
    "\n",
    "rgb2_skin = cv2.cvtColor(np.uint8(rgb2_skin), cv2.COLOR_HSV2RGB)\n",
    "rgb2_skin= rgb2_skin.reshape((rgb2_skin.shape[1], 3))\n",
    "rgb2_skin[:5]"
   ]
  },
  {
   "cell_type": "code",
   "execution_count": 9,
   "metadata": {
    "pycharm": {
     "name": "#%%\n"
    }
   },
   "outputs": [
    {
     "data": {
      "text/plain": "    r   g    b  skin  color_0  color_1  color_2\n0  74  85  123     1       95      118      153\n1  73  84  122     1       94      118      153\n2  72  83  121     1       93      118      153\n3  70  81  119     1       91      118      153\n4  70  81  119     1       91      118      153",
      "text/html": "<div>\n<style scoped>\n    .dataframe tbody tr th:only-of-type {\n        vertical-align: middle;\n    }\n\n    .dataframe tbody tr th {\n        vertical-align: top;\n    }\n\n    .dataframe thead th {\n        text-align: right;\n    }\n</style>\n<table border=\"1\" class=\"dataframe\">\n  <thead>\n    <tr style=\"text-align: right;\">\n      <th></th>\n      <th>r</th>\n      <th>g</th>\n      <th>b</th>\n      <th>skin</th>\n      <th>color_0</th>\n      <th>color_1</th>\n      <th>color_2</th>\n    </tr>\n  </thead>\n  <tbody>\n    <tr>\n      <th>0</th>\n      <td>74</td>\n      <td>85</td>\n      <td>123</td>\n      <td>1</td>\n      <td>95</td>\n      <td>118</td>\n      <td>153</td>\n    </tr>\n    <tr>\n      <th>1</th>\n      <td>73</td>\n      <td>84</td>\n      <td>122</td>\n      <td>1</td>\n      <td>94</td>\n      <td>118</td>\n      <td>153</td>\n    </tr>\n    <tr>\n      <th>2</th>\n      <td>72</td>\n      <td>83</td>\n      <td>121</td>\n      <td>1</td>\n      <td>93</td>\n      <td>118</td>\n      <td>153</td>\n    </tr>\n    <tr>\n      <th>3</th>\n      <td>70</td>\n      <td>81</td>\n      <td>119</td>\n      <td>1</td>\n      <td>91</td>\n      <td>118</td>\n      <td>153</td>\n    </tr>\n    <tr>\n      <th>4</th>\n      <td>70</td>\n      <td>81</td>\n      <td>119</td>\n      <td>1</td>\n      <td>91</td>\n      <td>118</td>\n      <td>153</td>\n    </tr>\n  </tbody>\n</table>\n</div>"
     },
     "execution_count": 9,
     "metadata": {},
     "output_type": "execute_result"
    }
   ],
   "source": [
    "skin_data[\"color_0\"] = hsv_skin[:, 0]\n",
    "skin_data[\"color_1\"] = hsv_skin[:, 1]\n",
    "skin_data[\"color_2\"] = hsv_skin[:, 2]\n",
    "\n",
    "skin_data.head()"
   ]
  },
  {
   "cell_type": "code",
   "execution_count": 9,
   "metadata": {
    "pycharm": {
     "name": "#%%\n"
    }
   },
   "outputs": [],
   "source": []
  },
  {
   "cell_type": "code",
   "execution_count": 10,
   "metadata": {
    "pycharm": {
     "name": "#%%\n"
    }
   },
   "outputs": [
    {
     "data": {
      "text/plain": "[160.04351245600583, 105.27776794667611, 166.50958532413142]"
     },
     "execution_count": 10,
     "metadata": {},
     "output_type": "execute_result"
    }
   ],
   "source": [
    "means  = skin_data.loc[skin_data['skin'] == 1].mean()\n",
    "hsv_skin_model_mean = [\n",
    "    means[\"color_0\"],\n",
    "    means[\"color_1\"],\n",
    "    means[\"color_2\"]\n",
    "]\n",
    "\n",
    "stds  = skin_data.loc[skin_data['skin'] == 1].std()\n",
    "hsv_skin_model_std = [\n",
    "    stds[\"color_0\"],\n",
    "    stds[\"color_1\"],\n",
    "    stds[\"color_2\"]\n",
    "]\n",
    "hsv_skin_model_mean\n"
   ]
  },
  {
   "cell_type": "code",
   "execution_count": 11,
   "metadata": {
    "pycharm": {
     "name": "#%%\n"
    }
   },
   "outputs": [
    {
     "data": {
      "text/plain": "    r   g    b  skin  color_0  color_1  color_2  color_0_dist  color_1_dist  \\\n0  74  85  123     1       95      118      153      1.789107      1.616781   \n1  73  84  122     1       94      118      153      1.816613      1.616781   \n2  72  83  121     1       93      118      153      1.844119      1.616781   \n3  70  81  119     1       91      118      153      1.899132      1.616781   \n4  70  81  119     1       91      118      153      1.899132      1.616781   \n\n   color_2_dist  \n0      1.820239  \n1      1.820239  \n2      1.820239  \n3      1.820239  \n4      1.820239  ",
      "text/html": "<div>\n<style scoped>\n    .dataframe tbody tr th:only-of-type {\n        vertical-align: middle;\n    }\n\n    .dataframe tbody tr th {\n        vertical-align: top;\n    }\n\n    .dataframe thead th {\n        text-align: right;\n    }\n</style>\n<table border=\"1\" class=\"dataframe\">\n  <thead>\n    <tr style=\"text-align: right;\">\n      <th></th>\n      <th>r</th>\n      <th>g</th>\n      <th>b</th>\n      <th>skin</th>\n      <th>color_0</th>\n      <th>color_1</th>\n      <th>color_2</th>\n      <th>color_0_dist</th>\n      <th>color_1_dist</th>\n      <th>color_2_dist</th>\n    </tr>\n  </thead>\n  <tbody>\n    <tr>\n      <th>0</th>\n      <td>74</td>\n      <td>85</td>\n      <td>123</td>\n      <td>1</td>\n      <td>95</td>\n      <td>118</td>\n      <td>153</td>\n      <td>1.789107</td>\n      <td>1.616781</td>\n      <td>1.820239</td>\n    </tr>\n    <tr>\n      <th>1</th>\n      <td>73</td>\n      <td>84</td>\n      <td>122</td>\n      <td>1</td>\n      <td>94</td>\n      <td>118</td>\n      <td>153</td>\n      <td>1.816613</td>\n      <td>1.616781</td>\n      <td>1.820239</td>\n    </tr>\n    <tr>\n      <th>2</th>\n      <td>72</td>\n      <td>83</td>\n      <td>121</td>\n      <td>1</td>\n      <td>93</td>\n      <td>118</td>\n      <td>153</td>\n      <td>1.844119</td>\n      <td>1.616781</td>\n      <td>1.820239</td>\n    </tr>\n    <tr>\n      <th>3</th>\n      <td>70</td>\n      <td>81</td>\n      <td>119</td>\n      <td>1</td>\n      <td>91</td>\n      <td>118</td>\n      <td>153</td>\n      <td>1.899132</td>\n      <td>1.616781</td>\n      <td>1.820239</td>\n    </tr>\n    <tr>\n      <th>4</th>\n      <td>70</td>\n      <td>81</td>\n      <td>119</td>\n      <td>1</td>\n      <td>91</td>\n      <td>118</td>\n      <td>153</td>\n      <td>1.899132</td>\n      <td>1.616781</td>\n      <td>1.820239</td>\n    </tr>\n  </tbody>\n</table>\n</div>"
     },
     "execution_count": 11,
     "metadata": {},
     "output_type": "execute_result"
    }
   ],
   "source": [
    "skin_data[\"color_0_dist\"] = np.abs((skin_data[\"color_0\"] - hsv_skin_model_mean[0]) /\\\n",
    "                             hsv_skin_model_std[0])\n",
    "\n",
    "skin_data[\"color_1_dist\"] = np.abs((skin_data[\"color_1\"] - hsv_skin_model_mean[1]) /\\\n",
    "                             hsv_skin_model_std[1])\n",
    "\n",
    "skin_data[\"color_2_dist\"] = np.abs((skin_data[\"color_2\"] - hsv_skin_model_mean[2]) /\\\n",
    "                             hsv_skin_model_std[2])\n",
    "\n",
    "skin_data.head()"
   ]
  },
  {
   "cell_type": "code",
   "execution_count": 12,
   "metadata": {
    "pycharm": {
     "name": "#%%\n"
    }
   },
   "outputs": [],
   "source": [
    "from sklearn import svm"
   ]
  },
  {
   "cell_type": "code",
   "execution_count": 13,
   "outputs": [
    {
     "name": "stderr",
     "output_type": "stream",
     "text": [
      "c:\\users\\wills\\appdata\\local\\programs\\python\\python36\\lib\\site-packages\\sklearn\\utils\\validation.py:72: FutureWarning: Pass C=linear as keyword args. From version 1.0 (renaming of 0.25) passing these as positional arguments will result in an error\n",
      "  \"will result in an error\", FutureWarning)\n"
     ]
    }
   ],
   "source": [
    "model = svm.SVC(\"linear\")"
   ],
   "metadata": {
    "collapsed": false,
    "pycharm": {
     "name": "#%%\n"
    }
   }
  },
  {
   "cell_type": "code",
   "execution_count": 28,
   "outputs": [
    {
     "data": {
      "text/plain": "array([[1.78910683, 1.61678092, 1.82023939],\n       [1.81661314, 1.61678092, 1.82023939],\n       [1.84411945, 1.61678092, 1.82023939],\n       [1.89913206, 1.61678092, 1.82023939],\n       [1.89913206, 1.61678092, 1.82023939]])"
     },
     "execution_count": 28,
     "metadata": {},
     "output_type": "execute_result"
    }
   ],
   "source": [
    "X = skin_data.loc[:,[\"color_0_dist\", \"color_1_dist\", \"color_2_dist\"]].to_numpy().astype(float)\n",
    "X[:5]"
   ],
   "metadata": {
    "collapsed": false,
    "pycharm": {
     "name": "#%%\n"
    }
   }
  },
  {
   "cell_type": "code",
   "execution_count": 31,
   "outputs": [
    {
     "data": {
      "text/plain": "array([1., 1., 1., 1., 1.])"
     },
     "execution_count": 31,
     "metadata": {},
     "output_type": "execute_result"
    }
   ],
   "source": [
    "Y = np.reshape((skin_data.loc[:,[\"skin\"]] == 1).to_numpy().astype(float), X.shape[0])\n",
    "Y[:5]"
   ],
   "metadata": {
    "collapsed": false,
    "pycharm": {
     "name": "#%%\n"
    }
   }
  },
  {
   "cell_type": "code",
   "execution_count": 32,
   "outputs": [
    {
     "ename": "TypeError",
     "evalue": "must be real number, not str",
     "output_type": "error",
     "traceback": [
      "\u001B[1;31m---------------------------------------------------------------------------\u001B[0m",
      "\u001B[1;31mTypeError\u001B[0m                                 Traceback (most recent call last)",
      "\u001B[1;32m<ipython-input-32-8fd17ac7ab75>\u001B[0m in \u001B[0;36m<module>\u001B[1;34m\u001B[0m\n\u001B[1;32m----> 1\u001B[1;33m \u001B[0mmodel\u001B[0m\u001B[1;33m.\u001B[0m\u001B[0mfit\u001B[0m\u001B[1;33m(\u001B[0m\u001B[0mX\u001B[0m\u001B[1;33m,\u001B[0m\u001B[0mY\u001B[0m\u001B[1;33m)\u001B[0m\u001B[1;33m\u001B[0m\u001B[0m\n\u001B[0m\u001B[0;32m      2\u001B[0m \u001B[1;33m\u001B[0m\u001B[0m\n",
      "\u001B[1;32mc:\\users\\wills\\appdata\\local\\programs\\python\\python36\\lib\\site-packages\\sklearn\\svm\\_base.py\u001B[0m in \u001B[0;36mfit\u001B[1;34m(self, X, y, sample_weight)\u001B[0m\n\u001B[0;32m    224\u001B[0m \u001B[1;33m\u001B[0m\u001B[0m\n\u001B[0;32m    225\u001B[0m         \u001B[0mseed\u001B[0m \u001B[1;33m=\u001B[0m \u001B[0mrnd\u001B[0m\u001B[1;33m.\u001B[0m\u001B[0mrandint\u001B[0m\u001B[1;33m(\u001B[0m\u001B[0mnp\u001B[0m\u001B[1;33m.\u001B[0m\u001B[0miinfo\u001B[0m\u001B[1;33m(\u001B[0m\u001B[1;34m'i'\u001B[0m\u001B[1;33m)\u001B[0m\u001B[1;33m.\u001B[0m\u001B[0mmax\u001B[0m\u001B[1;33m)\u001B[0m\u001B[1;33m\u001B[0m\u001B[0m\n\u001B[1;32m--> 226\u001B[1;33m         \u001B[0mfit\u001B[0m\u001B[1;33m(\u001B[0m\u001B[0mX\u001B[0m\u001B[1;33m,\u001B[0m \u001B[0my\u001B[0m\u001B[1;33m,\u001B[0m \u001B[0msample_weight\u001B[0m\u001B[1;33m,\u001B[0m \u001B[0msolver_type\u001B[0m\u001B[1;33m,\u001B[0m \u001B[0mkernel\u001B[0m\u001B[1;33m,\u001B[0m \u001B[0mrandom_seed\u001B[0m\u001B[1;33m=\u001B[0m\u001B[0mseed\u001B[0m\u001B[1;33m)\u001B[0m\u001B[1;33m\u001B[0m\u001B[0m\n\u001B[0m\u001B[0;32m    227\u001B[0m         \u001B[1;31m# see comment on the other call to np.iinfo in this file\u001B[0m\u001B[1;33m\u001B[0m\u001B[1;33m\u001B[0m\u001B[0m\n\u001B[0;32m    228\u001B[0m \u001B[1;33m\u001B[0m\u001B[0m\n",
      "\u001B[1;32mc:\\users\\wills\\appdata\\local\\programs\\python\\python36\\lib\\site-packages\\sklearn\\svm\\_base.py\u001B[0m in \u001B[0;36m_dense_fit\u001B[1;34m(self, X, y, sample_weight, solver_type, kernel, random_seed)\u001B[0m\n\u001B[0;32m    283\u001B[0m                 \u001B[0mcache_size\u001B[0m\u001B[1;33m=\u001B[0m\u001B[0mself\u001B[0m\u001B[1;33m.\u001B[0m\u001B[0mcache_size\u001B[0m\u001B[1;33m,\u001B[0m \u001B[0mcoef0\u001B[0m\u001B[1;33m=\u001B[0m\u001B[0mself\u001B[0m\u001B[1;33m.\u001B[0m\u001B[0mcoef0\u001B[0m\u001B[1;33m,\u001B[0m\u001B[1;33m\u001B[0m\u001B[0m\n\u001B[0;32m    284\u001B[0m                 \u001B[0mgamma\u001B[0m\u001B[1;33m=\u001B[0m\u001B[0mself\u001B[0m\u001B[1;33m.\u001B[0m\u001B[0m_gamma\u001B[0m\u001B[1;33m,\u001B[0m \u001B[0mepsilon\u001B[0m\u001B[1;33m=\u001B[0m\u001B[0mself\u001B[0m\u001B[1;33m.\u001B[0m\u001B[0mepsilon\u001B[0m\u001B[1;33m,\u001B[0m\u001B[1;33m\u001B[0m\u001B[0m\n\u001B[1;32m--> 285\u001B[1;33m                 max_iter=self.max_iter, random_seed=random_seed)\n\u001B[0m\u001B[0;32m    286\u001B[0m \u001B[1;33m\u001B[0m\u001B[0m\n\u001B[0;32m    287\u001B[0m         \u001B[0mself\u001B[0m\u001B[1;33m.\u001B[0m\u001B[0m_warn_from_fit_status\u001B[0m\u001B[1;33m(\u001B[0m\u001B[1;33m)\u001B[0m\u001B[1;33m\u001B[0m\u001B[0m\n",
      "\u001B[1;32msklearn\\svm\\_libsvm.pyx\u001B[0m in \u001B[0;36msklearn.svm._libsvm.fit\u001B[1;34m()\u001B[0m\n",
      "\u001B[1;31mTypeError\u001B[0m: must be real number, not str"
     ]
    }
   ],
   "source": [
    "model.fit(X,Y)"
   ],
   "metadata": {
    "collapsed": false,
    "pycharm": {
     "name": "#%%\n"
    }
   }
  },
  {
   "cell_type": "code",
   "execution_count": null,
   "outputs": [],
   "source": [
    "pickle.dump(model, open(\"SVM_MODEL\", 'wb'))"
   ],
   "metadata": {
    "collapsed": false,
    "pycharm": {
     "name": "#%%\n"
    }
   }
  },
  {
   "cell_type": "code",
   "execution_count": null,
   "metadata": {
    "pycharm": {
     "name": "#%%\n"
    }
   },
   "outputs": [],
   "source": [
    "sns.displot(data=skin_data, x=\"color_0_dist\", hue=\"skin\")"
   ]
  },
  {
   "cell_type": "code",
   "execution_count": null,
   "metadata": {
    "pycharm": {
     "name": "#%%\n"
    }
   },
   "outputs": [],
   "source": [
    "sns.displot(data=skin_data, x=\"color_1_dist\", hue=\"skin\")"
   ]
  },
  {
   "cell_type": "code",
   "execution_count": null,
   "metadata": {
    "pycharm": {
     "name": "#%%\n"
    }
   },
   "outputs": [],
   "source": [
    "sns.displot(data=skin_data, x=\"color_2_dist\", hue=\"skin\")"
   ]
  },
  {
   "cell_type": "code",
   "execution_count": null,
   "metadata": {},
   "outputs": [],
   "source": [
    "list(range(3))"
   ]
  },
  {
   "cell_type": "code",
   "execution_count": null,
   "metadata": {},
   "outputs": [],
   "source": [
    "true_positives = [0,0,0]\n",
    "false_positives = [0,0,0]\n",
    "true_negatives = [0,0,0]\n",
    "false_negatives = [0,0,0]\n",
    "m_thresh = [0,0,0]\n",
    "thresholds = [0,0,0]"
   ]
  },
  {
   "cell_type": "code",
   "execution_count": null,
   "metadata": {},
   "outputs": [],
   "source": []
  },
  {
   "cell_type": "code",
   "execution_count": null,
   "metadata": {},
   "outputs": [],
   "source": [
    "for color_num in range(3):\n",
    "    color_channel = \"color_%d\"%color_num\n",
    "    true_positives[color_num] = np.zeros(THRESHOLD_COUNT)\n",
    "    false_positives[color_num] = np.zeros(THRESHOLD_COUNT)\n",
    "    true_negatives[color_num] = np.zeros(THRESHOLD_COUNT)\n",
    "    false_negatives[color_num] = np.zeros(THRESHOLD_COUNT)\n",
    "\n",
    "\n",
    "    color_data = skin_data.loc[:, ['skin', color_channel + '_dist']] \n",
    "    color_data[\"skin\"] = color_data[\"skin\"] == 1\n",
    "    color_data.head()\n",
    "    \n",
    "    thresholds[color_num] = np.linspace(min(skin_data[color_channel + \"_dist\"]),\n",
    "                                        max(skin_data[color_channel + \"_dist\"]),\n",
    "                                        THRESHOLD_COUNT)\n",
    "    total = color_data.count()[0]\n",
    "    positives = color_data.loc[color_data[\"skin\"]].count()[0]\n",
    "\n",
    "    for threshold_index in range(len(thresholds[color_num])):\n",
    "    # threshold_index = 0\n",
    "#         print(color_channel + \"_dist\")\n",
    "#         print(thresholds[color_num][threshold_index])\n",
    "#         print(color_data[color_channel + \"_dist\"])\n",
    "    \n",
    "        color_data[\"prediction\"] = color_data[color_channel + \"_dist\"] <= thresholds[color_num][threshold_index]\n",
    "        true_positives[color_num][threshold_index] = color_data.loc[(color_data[\"skin\"] == color_data[\"prediction\"]) &  color_data[\"prediction\"]].count()[0]\n",
    "        true_negatives[color_num][threshold_index] = color_data.loc[(color_data[\"skin\"] == color_data[\"prediction\"]) &  ~color_data[\"prediction\"]].count()[0]\n",
    "        false_positives[color_num][threshold_index] = color_data.loc[(color_data[\"skin\"] != color_data[\"prediction\"]) &  color_data[\"prediction\"]].count()[0]\n",
    "        false_negatives[color_num][threshold_index] = color_data.loc[(color_data[\"skin\"] != color_data[\"prediction\"]) &  ~color_data[\"prediction\"]].count()[0]\n",
    "    # color_data.head()\n",
    "\n",
    "    m_thresh[color_num] = (1.0 - false_positives[color_num]/(total - positives)) + ((true_positives[color_num]/positives) * 10)\n",
    "\n",
    "    THRESHOLD[color_num] = min(thresholds[color_num][np.argmax(m_thresh[color_num])], thresholds[color_num][-1])\n",
    "    MODEL[color_num] = [hsv_skin_model_mean[color_num], hsv_skin_model_std[color_num]]"
   ]
  },
  {
   "cell_type": "code",
   "execution_count": null,
   "metadata": {},
   "outputs": [],
   "source": []
  },
  {
   "cell_type": "code",
   "execution_count": null,
   "metadata": {},
   "outputs": [],
   "source": [
    "sns.lineplot(x=false_positives[0]/(total - positives), y=true_positives[0]/positives, marker='*')"
   ]
  },
  {
   "cell_type": "code",
   "execution_count": null,
   "metadata": {},
   "outputs": [],
   "source": [
    "sns.lineplot(x=thresholds[0], y=m_thresh[0], marker='*')"
   ]
  },
  {
   "cell_type": "code",
   "execution_count": null,
   "metadata": {},
   "outputs": [],
   "source": [
    "# H_THRESHOLD[0] = min(thresholds[np.argmax(m_thresh)], thresholds[-1])\n",
    "# H_MODEL = [hsv_skin_model_mean[0], hsv_skin_model_std[0]]"
   ]
  },
  {
   "cell_type": "code",
   "execution_count": null,
   "metadata": {},
   "outputs": [],
   "source": []
  },
  {
   "cell_type": "code",
   "execution_count": null,
   "metadata": {},
   "outputs": [],
   "source": []
  },
  {
   "cell_type": "code",
   "execution_count": null,
   "metadata": {},
   "outputs": [],
   "source": []
  },
  {
   "cell_type": "code",
   "execution_count": null,
   "metadata": {},
   "outputs": [],
   "source": [
    "# H_THRESHOLD = min(thresholds[np.argmax(m_thresh)], thresholds[-1])\n",
    "# H_THRESHOLD"
   ]
  },
  {
   "cell_type": "code",
   "execution_count": null,
   "metadata": {},
   "outputs": [],
   "source": [
    "# H_MODEL = [hsv_skin_model_mean[COLOR_CHANNEL_NUM], hsv_skin_model_std[COLOR_CHANNEL_NUM]]\n",
    "# H_MODEL"
   ]
  },
  {
   "cell_type": "code",
   "execution_count": null,
   "metadata": {},
   "outputs": [],
   "source": [
    "# hsv_skin_model_mean[COLOR_CHANNEL_NUM]\n"
   ]
  },
  {
   "cell_type": "code",
   "execution_count": null,
   "metadata": {},
   "outputs": [],
   "source": [
    "# hsv_skin_model_std[COLOR_CHANNEL_NUM]"
   ]
  },
  {
   "cell_type": "code",
   "execution_count": null,
   "metadata": {},
   "outputs": [],
   "source": []
  },
  {
   "cell_type": "code",
   "execution_count": null,
   "metadata": {},
   "outputs": [],
   "source": [
    "im = cv2.imread(\"opencv_frame_0.png\")\n",
    "new_im = im.copy()"
   ]
  },
  {
   "cell_type": "code",
   "execution_count": null,
   "metadata": {},
   "outputs": [],
   "source": [
    "plt.imshow(im)"
   ]
  },
  {
   "cell_type": "code",
   "execution_count": null,
   "metadata": {},
   "outputs": [],
   "source": [
    "new_im[...,0] = im[...,2]\n",
    "new_im[...,1] = im[...,1]\n",
    "new_im[...,2] = im[...,0]"
   ]
  },
  {
   "cell_type": "code",
   "execution_count": null,
   "outputs": [],
   "source": [
    "space_im = cv2.cvtColor(np.uint8(new_im), COLOR_SPACE)"
   ],
   "metadata": {
    "collapsed": false,
    "pycharm": {
     "name": "#%%\n"
    }
   }
  },
  {
   "cell_type": "code",
   "execution_count": null,
   "outputs": [],
   "source": [
    "flattened = np.reshape(im, (np.product(space_im.shape[:-1]), 3))\n",
    "print(flattened[:5])"
   ],
   "metadata": {
    "collapsed": false,
    "pycharm": {
     "name": "#%%\n"
    }
   }
  },
  {
   "cell_type": "code",
   "execution_count": null,
   "outputs": [],
   "source": [
    "MODEL_MEAN = np.reshape(np.array(MODEL)[:,0], (1,3))\n",
    "MODEL_STD= np.reshape(np.array(MODEL)[:,1], (1,3))\n",
    "print(MODEL_MEAN)\n",
    "print(MODEL_STD)"
   ],
   "metadata": {
    "collapsed": false,
    "pycharm": {
     "name": "#%%\n"
    }
   }
  },
  {
   "cell_type": "code",
   "execution_count": null,
   "outputs": [],
   "source": [
    "flat_normed = np.abs((flattened - MODEL_MEAN)/MODEL_STD)\n",
    "print(flat_normed[:5])"
   ],
   "metadata": {
    "collapsed": false,
    "pycharm": {
     "name": "#%%\n"
    }
   }
  },
  {
   "cell_type": "code",
   "execution_count": null,
   "outputs": [],
   "source": [
    "predicted = model.predict(flat_normed)"
   ],
   "metadata": {
    "collapsed": false,
    "pycharm": {
     "name": "#%%\n"
    }
   }
  },
  {
   "cell_type": "code",
   "execution_count": null,
   "outputs": [],
   "source": [
    "print(predicted[:5])"
   ],
   "metadata": {
    "collapsed": false,
    "pycharm": {
     "name": "#%%\n"
    }
   }
  },
  {
   "cell_type": "code",
   "execution_count": null,
   "outputs": [],
   "source": [
    "predicted_im = np.reshape(1 - (predicted-1), space_im.shape[:-1])"
   ],
   "metadata": {
    "collapsed": false,
    "pycharm": {
     "name": "#%%\n"
    }
   }
  },
  {
   "cell_type": "code",
   "execution_count": null,
   "outputs": [],
   "source": [
    "plt.imshow(predicted_im)"
   ],
   "metadata": {
    "collapsed": false,
    "pycharm": {
     "name": "#%%\n"
    }
   }
  },
  {
   "cell_type": "code",
   "execution_count": null,
   "metadata": {},
   "outputs": [],
   "source": [
    "plt.imshow(im)"
   ]
  },
  {
   "cell_type": "code",
   "execution_count": null,
   "metadata": {},
   "outputs": [],
   "source": [
    "masked_im = [0,0,0]"
   ]
  },
  {
   "cell_type": "code",
   "execution_count": null,
   "metadata": {},
   "outputs": [],
   "source": [
    "for color_num in range(3):\n",
    "    space_im = cv2.cvtColor(np.uint8(im), COLOR_SPACE)\n",
    "    h_im = space_im[..., color_num]\n",
    "    h_im_mask = np.reshape(np.abs((h_im - MODEL[color_num][0])/MODEL[color_num][1]) <= THRESHOLD[color_num],\n",
    "                                  (im.shape[0], im.shape[1], 1))\n",
    "    masked_im[color_num] = new_im * h_im_mask"
   ]
  },
  {
   "cell_type": "code",
   "execution_count": null,
   "metadata": {},
   "outputs": [],
   "source": [
    "plt.imshow(masked_im[0])"
   ]
  },
  {
   "cell_type": "code",
   "execution_count": null,
   "metadata": {},
   "outputs": [],
   "source": [
    "plt.imshow(masked_im[1])"
   ]
  },
  {
   "cell_type": "code",
   "execution_count": null,
   "metadata": {},
   "outputs": [],
   "source": [
    "plt.imshow(masked_im[2])"
   ]
  },
  {
   "cell_type": "code",
   "execution_count": null,
   "metadata": {},
   "outputs": [],
   "source": [
    "MODEL"
   ]
  },
  {
   "cell_type": "code",
   "execution_count": null,
   "metadata": {},
   "outputs": [],
   "source": [
    "THRESHOLD"
   ]
  },
  {
   "cell_type": "code",
   "execution_count": null,
   "metadata": {},
   "outputs": [],
   "source": []
  }
 ],
 "metadata": {
  "kernelspec": {
   "display_name": "Python 3",
   "language": "python",
   "name": "python3"
  },
  "language_info": {
   "codemirror_mode": {
    "name": "ipython",
    "version": 3
   },
   "file_extension": ".py",
   "mimetype": "text/x-python",
   "name": "python",
   "nbconvert_exporter": "python",
   "pygments_lexer": "ipython3",
   "version": "3.6.6"
  }
 },
 "nbformat": 4,
 "nbformat_minor": 1
}